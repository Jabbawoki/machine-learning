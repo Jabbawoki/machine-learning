{
 "cells": [
  {
   "cell_type": "code",
   "execution_count": 100,
   "metadata": {},
   "outputs": [],
   "source": [
    "import math\n",
    "import numpy as np\n",
    "import matplotlib.pyplot as plt\n",
    "%matplotlib inline"
   ]
  },
  {
   "cell_type": "code",
   "execution_count": 69,
   "metadata": {},
   "outputs": [],
   "source": [
    "def f(x):\n",
    "  return 3*x**2 - 4*x + 5"
   ]
  },
  {
   "cell_type": "code",
   "execution_count": 70,
   "metadata": {},
   "outputs": [
    {
     "data": {
      "text/plain": [
       "20.0"
      ]
     },
     "execution_count": 70,
     "metadata": {},
     "output_type": "execute_result"
    }
   ],
   "source": [
    "f(3.0)"
   ]
  },
  {
   "cell_type": "code",
   "execution_count": 71,
   "metadata": {},
   "outputs": [
    {
     "data": {
      "image/png": "[encoded data removed]",
      "text/plain": [
       "<Figure size 640x480 with 1 Axes>"
      ]
     },
     "metadata": {},
     "output_type": "display_data"
    }
   ],
   "source": [
    "xs = np.arange(-5, 5, 0.25)\n",
    "ys = f(xs)\n",
    "plt.plot(xs, ys)\n",
    "plt.show()"
   ]
  },
  {
   "cell_type": "code",
   "execution_count": 72,
   "metadata": {},
   "outputs": [
    {
     "data": {
      "text/plain": [
       "2.999378523327323e-06"
      ]
     },
     "execution_count": 72,
     "metadata": {},
     "output_type": "execute_result"
    }
   ],
   "source": [
    "h = 0.000001\n",
    "x = 2/3\n",
    "(f(x + h) - f(x))/h"
   ]
  },
  {
   "cell_type": "code",
   "execution_count": 73,
   "metadata": {},
   "outputs": [
    {
     "name": "stdout",
     "output_type": "stream",
     "text": [
      "4.0\n"
     ]
    }
   ],
   "source": [
    "# les get more complex\n",
    "a = 2.0\n",
    "b = -3.0\n",
    "c = 10.0\n",
    "d = a*b + c\n",
    "print(d)"
   ]
  },
  {
   "cell_type": "code",
   "execution_count": 74,
   "metadata": {},
   "outputs": [
    {
     "name": "stdout",
     "output_type": "stream",
     "text": [
      "d1 4.0\n",
      "d2 4.0001\n",
      "slope 0.9999999999976694\n"
     ]
    }
   ],
   "source": [
    "h = 0.0001\n",
    "\n",
    "# inputs\n",
    "a = 2.0\n",
    "b = -3.0\n",
    "c = 10.0\n",
    "\n",
    "d1 = a*b + c\n",
    "c += h\n",
    "d2 = a*b + c\n",
    "\n",
    "print('d1', d1)\n",
    "print('d2', d2)\n",
    "print('slope', (d2 - d1)/h)\n"
   ]
  },
  {
   "cell_type": "code",
   "execution_count": 228,
   "metadata": {},
   "outputs": [
    {
     "data": {
      "text/plain": [
       "Value(data=-8.0)"
      ]
     },
     "execution_count": 228,
     "metadata": {},
     "output_type": "execute_result"
    }
   ],
   "source": [
    "class Value:\n",
    "  \n",
    "  def __init__(self, data, _children=(), _op='', label=''):\n",
    "    self.data = data\n",
    "    self.grad = 0.0\n",
    "    # how we chain output gradient by input gradient (leaf node - nothing to do)\n",
    "    self._backward = lambda: None\n",
    "    self._prev = set(_children)\n",
    "    self._op = _op\n",
    "    self.label = label\n",
    "\n",
    "  def __repr__(self):\n",
    "    return f\"Value(data={self.data})\"\n",
    "  \n",
    "  def __add__(self, other):\n",
    "    out = Value(self.data + other.data, (self, other), '+')\n",
    "    \n",
    "    def _backward():\n",
    "    # derivative of self (self/self = 1) by global output gradient\n",
    "      self.grad += 1.0 * out.grad\n",
    "      other.grad += 1.0 * out.grad\n",
    "    out._backward = _backward\n",
    "    \n",
    "    return out\n",
    "\n",
    "  def __mul__(self, other):\n",
    "      # Chain rule\n",
    "    out = Value(self.data * other.data, (self, other), '*')\n",
    "    \n",
    "    def _backward():\n",
    "      # doing differential with global output grad\n",
    "      self.grad += other.data * out.grad\n",
    "      other.grad += self.data * out.grad\n",
    "    out._backward = _backward\n",
    "      \n",
    "    return out\n",
    "  \n",
    "  def tanh(self):\n",
    "    # expression for tanh\n",
    "    # know derivative able to back propogate through with chain rule\n",
    "    x = self.data\n",
    "    # tanh() function this reference to x\n",
    "    t = (math.exp(2*x) - 1)/(math.exp(2*x) + 1)\n",
    "    out = Value(t, (self, ), 'tanh')\n",
    "    \n",
    "    def _backward():\n",
    "      # diff of tanh\n",
    "      self.grad += (1 - t**2) * out.grad\n",
    "    out._backward = _backward\n",
    "    \n",
    "    return out\n",
    "\n",
    "  \n",
    "  # def backward(self):\n",
    "    \n",
    "  #   topo = []\n",
    "  #   visited = set()\n",
    "  #   def build_topo(v):\n",
    "  #     if v not in visited:\n",
    "  #       visited.add(v)\n",
    "  #       for child in v._prev:\n",
    "  #         build_topo(child)\n",
    "  #       topo.append(v)\n",
    "  #   build_topo(self)\n",
    "    \n",
    "  #   self.grad = 1.0\n",
    "  #   for node in reversed(topo):\n",
    "  #     node._backward()\n",
    "\n",
    "\n",
    "a = Value(2.0, label='a')\n",
    "b = Value(-3.0, label='b')\n",
    "c = Value(10.0, label='c')\n",
    "e = a*b; e.label = 'e'\n",
    "d = e + c; d.label = 'd'\n",
    "f = Value(-2.0, label='f')\n",
    "L = d * f; L.label = 'L'\n",
    "L"
   ]
  },
  {
   "cell_type": "code",
   "execution_count": 230,
   "metadata": {},
   "outputs": [],
   "source": [
    "from graphviz import Digraph\n",
    "\n",
    "def trace(root):\n",
    "  # builds a set of all nodes and edges in a graph\n",
    "  nodes, edges = set(), set()\n",
    "  def build(v):\n",
    "    if v not in nodes:\n",
    "      nodes.add(v)\n",
    "      for child in v._prev:\n",
    "        edges.add((child, v))\n",
    "        build(child)\n",
    "  build(root)\n",
    "  return nodes, edges\n",
    "\n",
    "def draw_dot(root):\n",
    "  dot = Digraph(format='svg', graph_attr={'rankdir': 'LR'}) # LR = left to right\n",
    "  \n",
    "  nodes, edges = trace(root)\n",
    "  for n in nodes:\n",
    "    uid = str(id(n))\n",
    "    # for any value in the graph, create a rectangular ('record') node for it\n",
    "    dot.node(name = uid, label = \"{ %s | data %.4f | grad %.4f }\" % (n.label, n.data, n.grad), shape='record')\n",
    "    if n._op:\n",
    "      # if this value is a result of some operation, create an op node for it\n",
    "      dot.node(name = uid + n._op, label = n._op)\n",
    "      # and connect this node to it\n",
    "      dot.edge(uid + n._op, uid)\n",
    "\n",
    "  for n1, n2 in edges:\n",
    "    # connect n1 to the op node of n2\n",
    "    dot.edge(str(id(n1)), str(id(n2)) + n2._op)\n",
    "\n",
    "  return dot\n"
   ]
  },
  {
   "cell_type": "code",
   "execution_count": 77,
   "metadata": {},
   "outputs": [
    {
     "data": {
      "image/svg+xml": [
       "<?xml version=\"1.0\" encoding=\"UTF-8\" standalone=\"no\"?>\n",
       "<!DOCTYPE svg PUBLIC \"-//W3C//DTD SVG 1.1//EN\"\n",
       " \"http://www.w3.org/Graphics/SVG/1.1/DTD/svg11.dtd\">\n",
       "<!-- Generated by graphviz version 2.50.0 (0)\n",
       " -->\n",
       "<!-- Pages: 1 -->\n",
       "<svg width=\"1148pt\" height=\"154pt\"\n",
       " viewBox=\"0.00 0.00 1148.00 154.00\" xmlns=\"http://www.w3.org/2000/svg\" xmlns:xlink=\"http://www.w3.org/1999/xlink\">\n",
       "<g id=\"graph0\" class=\"graph\" transform=\"scale(1 1) rotate(0) translate(4 150)\">\n",
       "<polygon fill=\"white\" stroke=\"transparent\" points=\"-4,4 -4,-150 1144,-150 1144,4 -4,4\"/>\n",
       "<!-- 2067066196992 -->\n",
       "<g id=\"node1\" class=\"node\">\n",
       "<title>2067066196992</title>\n",
       "<polygon fill=\"none\" stroke=\"black\" points=\"635.5,-54.5 635.5,-90.5 820.5,-90.5 820.5,-54.5 635.5,-54.5\"/>\n",
       "<text text-anchor=\"middle\" x=\"647\" y=\"-68.8\" font-family=\"Times New Roman,serif\" font-size=\"14.00\">d</text>\n",
       "<polyline fill=\"none\" stroke=\"black\" points=\"658.5,-54.5 658.5,-90.5 \"/>\n",
       "<text text-anchor=\"middle\" x=\"698.5\" y=\"-68.8\" font-family=\"Times New Roman,serif\" font-size=\"14.00\">data 4.0000</text>\n",
       "<polyline fill=\"none\" stroke=\"black\" points=\"738.5,-54.5 738.5,-90.5 \"/>\n",
       "<text text-anchor=\"middle\" x=\"779.5\" y=\"-68.8\" font-family=\"Times New Roman,serif\" font-size=\"14.00\">grad 0.0000</text>\n",
       "</g>\n",
       "<!-- 2067066204720* -->\n",
       "<g id=\"node4\" class=\"node\">\n",
       "<title>2067066204720*</title>\n",
       "<ellipse fill=\"none\" stroke=\"black\" cx=\"885\" cy=\"-99.5\" rx=\"27\" ry=\"18\"/>\n",
       "<text text-anchor=\"middle\" x=\"885\" y=\"-95.8\" font-family=\"Times New Roman,serif\" font-size=\"14.00\">*</text>\n",
       "</g>\n",
       "<!-- 2067066196992&#45;&gt;2067066204720* -->\n",
       "<g id=\"edge5\" class=\"edge\">\n",
       "<title>2067066196992&#45;&gt;2067066204720*</title>\n",
       "<path fill=\"none\" stroke=\"black\" d=\"M820.51,-88.44C830.48,-90.18 840.13,-91.86 848.77,-93.36\"/>\n",
       "<polygon fill=\"black\" stroke=\"black\" points=\"848.31,-96.84 858.77,-95.1 849.52,-89.94 848.31,-96.84\"/>\n",
       "</g>\n",
       "<!-- 2067066196992+ -->\n",
       "<g id=\"node2\" class=\"node\">\n",
       "<title>2067066196992+</title>\n",
       "<ellipse fill=\"none\" stroke=\"black\" cx=\"571\" cy=\"-72.5\" rx=\"27\" ry=\"18\"/>\n",
       "<text text-anchor=\"middle\" x=\"571\" y=\"-68.8\" font-family=\"Times New Roman,serif\" font-size=\"14.00\">+</text>\n",
       "</g>\n",
       "<!-- 2067066196992+&#45;&gt;2067066196992 -->\n",
       "<g id=\"edge1\" class=\"edge\">\n",
       "<title>2067066196992+&#45;&gt;2067066196992</title>\n",
       "<path fill=\"none\" stroke=\"black\" d=\"M598.29,-72.5C606.26,-72.5 615.54,-72.5 625.39,-72.5\"/>\n",
       "<polygon fill=\"black\" stroke=\"black\" points=\"625.41,-76 635.41,-72.5 625.41,-69 625.41,-76\"/>\n",
       "</g>\n",
       "<!-- 2067066204720 -->\n",
       "<g id=\"node3\" class=\"node\">\n",
       "<title>2067066204720</title>\n",
       "<polygon fill=\"none\" stroke=\"black\" points=\"948,-81.5 948,-117.5 1140,-117.5 1140,-81.5 948,-81.5\"/>\n",
       "<text text-anchor=\"middle\" x=\"960.5\" y=\"-95.8\" font-family=\"Times New Roman,serif\" font-size=\"14.00\">L</text>\n",
       "<polyline fill=\"none\" stroke=\"black\" points=\"973,-81.5 973,-117.5 \"/>\n",
       "<text text-anchor=\"middle\" x=\"1015.5\" y=\"-95.8\" font-family=\"Times New Roman,serif\" font-size=\"14.00\">data &#45;8.0000</text>\n",
       "<polyline fill=\"none\" stroke=\"black\" points=\"1058,-81.5 1058,-117.5 \"/>\n",
       "<text text-anchor=\"middle\" x=\"1099\" y=\"-95.8\" font-family=\"Times New Roman,serif\" font-size=\"14.00\">grad 0.0000</text>\n",
       "</g>\n",
       "<!-- 2067066204720*&#45;&gt;2067066204720 -->\n",
       "<g id=\"edge2\" class=\"edge\">\n",
       "<title>2067066204720*&#45;&gt;2067066204720</title>\n",
       "<path fill=\"none\" stroke=\"black\" d=\"M912.28,-99.5C919.78,-99.5 928.44,-99.5 937.67,-99.5\"/>\n",
       "<polygon fill=\"black\" stroke=\"black\" points=\"937.87,-103 947.87,-99.5 937.87,-96 937.87,-103\"/>\n",
       "</g>\n",
       "<!-- 2067066951760 -->\n",
       "<g id=\"node5\" class=\"node\">\n",
       "<title>2067066951760</title>\n",
       "<polygon fill=\"none\" stroke=\"black\" points=\"316,-82.5 316,-118.5 508,-118.5 508,-82.5 316,-82.5\"/>\n",
       "<text text-anchor=\"middle\" x=\"327.5\" y=\"-96.8\" font-family=\"Times New Roman,serif\" font-size=\"14.00\">c</text>\n",
       "<polyline fill=\"none\" stroke=\"black\" points=\"339,-82.5 339,-118.5 \"/>\n",
       "<text text-anchor=\"middle\" x=\"382.5\" y=\"-96.8\" font-family=\"Times New Roman,serif\" font-size=\"14.00\">data 10.0000</text>\n",
       "<polyline fill=\"none\" stroke=\"black\" points=\"426,-82.5 426,-118.5 \"/>\n",
       "<text text-anchor=\"middle\" x=\"467\" y=\"-96.8\" font-family=\"Times New Roman,serif\" font-size=\"14.00\">grad 0.0000</text>\n",
       "</g>\n",
       "<!-- 2067066951760&#45;&gt;2067066196992+ -->\n",
       "<g id=\"edge9\" class=\"edge\">\n",
       "<title>2067066951760&#45;&gt;2067066196992+</title>\n",
       "<path fill=\"none\" stroke=\"black\" d=\"M508.4,-83.49C517.69,-81.83 526.64,-80.23 534.71,-78.79\"/>\n",
       "<polygon fill=\"black\" stroke=\"black\" points=\"535.53,-82.2 544.76,-77 534.31,-75.31 535.53,-82.2\"/>\n",
       "</g>\n",
       "<!-- 2067066952816 -->\n",
       "<g id=\"node6\" class=\"node\">\n",
       "<title>2067066952816</title>\n",
       "<polygon fill=\"none\" stroke=\"black\" points=\"0,-55.5 0,-91.5 190,-91.5 190,-55.5 0,-55.5\"/>\n",
       "<text text-anchor=\"middle\" x=\"11.5\" y=\"-69.8\" font-family=\"Times New Roman,serif\" font-size=\"14.00\">b</text>\n",
       "<polyline fill=\"none\" stroke=\"black\" points=\"23,-55.5 23,-91.5 \"/>\n",
       "<text text-anchor=\"middle\" x=\"65.5\" y=\"-69.8\" font-family=\"Times New Roman,serif\" font-size=\"14.00\">data &#45;3.0000</text>\n",
       "<polyline fill=\"none\" stroke=\"black\" points=\"108,-55.5 108,-91.5 \"/>\n",
       "<text text-anchor=\"middle\" x=\"149\" y=\"-69.8\" font-family=\"Times New Roman,serif\" font-size=\"14.00\">grad 0.0000</text>\n",
       "</g>\n",
       "<!-- 2067066203568* -->\n",
       "<g id=\"node9\" class=\"node\">\n",
       "<title>2067066203568*</title>\n",
       "<ellipse fill=\"none\" stroke=\"black\" cx=\"253\" cy=\"-45.5\" rx=\"27\" ry=\"18\"/>\n",
       "<text text-anchor=\"middle\" x=\"253\" y=\"-41.8\" font-family=\"Times New Roman,serif\" font-size=\"14.00\">*</text>\n",
       "</g>\n",
       "<!-- 2067066952816&#45;&gt;2067066203568* -->\n",
       "<g id=\"edge8\" class=\"edge\">\n",
       "<title>2067066952816&#45;&gt;2067066203568*</title>\n",
       "<path fill=\"none\" stroke=\"black\" d=\"M190.34,-56.57C199.62,-54.9 208.58,-53.29 216.66,-51.84\"/>\n",
       "<polygon fill=\"black\" stroke=\"black\" points=\"217.49,-55.25 226.72,-50.04 216.26,-48.36 217.49,-55.25\"/>\n",
       "</g>\n",
       "<!-- 2067101207200 -->\n",
       "<g id=\"node7\" class=\"node\">\n",
       "<title>2067101207200</title>\n",
       "<polygon fill=\"none\" stroke=\"black\" points=\"2.5,-0.5 2.5,-36.5 187.5,-36.5 187.5,-0.5 2.5,-0.5\"/>\n",
       "<text text-anchor=\"middle\" x=\"14\" y=\"-14.8\" font-family=\"Times New Roman,serif\" font-size=\"14.00\">a</text>\n",
       "<polyline fill=\"none\" stroke=\"black\" points=\"25.5,-0.5 25.5,-36.5 \"/>\n",
       "<text text-anchor=\"middle\" x=\"65.5\" y=\"-14.8\" font-family=\"Times New Roman,serif\" font-size=\"14.00\">data 2.0000</text>\n",
       "<polyline fill=\"none\" stroke=\"black\" points=\"105.5,-0.5 105.5,-36.5 \"/>\n",
       "<text text-anchor=\"middle\" x=\"146.5\" y=\"-14.8\" font-family=\"Times New Roman,serif\" font-size=\"14.00\">grad 0.0000</text>\n",
       "</g>\n",
       "<!-- 2067101207200&#45;&gt;2067066203568* -->\n",
       "<g id=\"edge6\" class=\"edge\">\n",
       "<title>2067101207200&#45;&gt;2067066203568*</title>\n",
       "<path fill=\"none\" stroke=\"black\" d=\"M187.65,-34.36C197.94,-36.14 207.91,-37.87 216.81,-39.41\"/>\n",
       "<polygon fill=\"black\" stroke=\"black\" points=\"216.26,-42.87 226.71,-41.12 217.45,-35.97 216.26,-42.87\"/>\n",
       "</g>\n",
       "<!-- 2067066203568 -->\n",
       "<g id=\"node8\" class=\"node\">\n",
       "<title>2067066203568</title>\n",
       "<polygon fill=\"none\" stroke=\"black\" points=\"317,-27.5 317,-63.5 507,-63.5 507,-27.5 317,-27.5\"/>\n",
       "<text text-anchor=\"middle\" x=\"328.5\" y=\"-41.8\" font-family=\"Times New Roman,serif\" font-size=\"14.00\">e</text>\n",
       "<polyline fill=\"none\" stroke=\"black\" points=\"340,-27.5 340,-63.5 \"/>\n",
       "<text text-anchor=\"middle\" x=\"382.5\" y=\"-41.8\" font-family=\"Times New Roman,serif\" font-size=\"14.00\">data &#45;6.0000</text>\n",
       "<polyline fill=\"none\" stroke=\"black\" points=\"425,-27.5 425,-63.5 \"/>\n",
       "<text text-anchor=\"middle\" x=\"466\" y=\"-41.8\" font-family=\"Times New Roman,serif\" font-size=\"14.00\">grad 0.0000</text>\n",
       "</g>\n",
       "<!-- 2067066203568&#45;&gt;2067066196992+ -->\n",
       "<g id=\"edge7\" class=\"edge\">\n",
       "<title>2067066203568&#45;&gt;2067066196992+</title>\n",
       "<path fill=\"none\" stroke=\"black\" d=\"M507.05,-61.67C516.78,-63.35 526.18,-64.96 534.62,-66.42\"/>\n",
       "<polygon fill=\"black\" stroke=\"black\" points=\"534.3,-69.91 544.75,-68.16 535.49,-63.01 534.3,-69.91\"/>\n",
       "</g>\n",
       "<!-- 2067066203568*&#45;&gt;2067066203568 -->\n",
       "<g id=\"edge3\" class=\"edge\">\n",
       "<title>2067066203568*&#45;&gt;2067066203568</title>\n",
       "<path fill=\"none\" stroke=\"black\" d=\"M280.28,-45.5C288.05,-45.5 297.08,-45.5 306.68,-45.5\"/>\n",
       "<polygon fill=\"black\" stroke=\"black\" points=\"306.88,-49 316.88,-45.5 306.88,-42 306.88,-49\"/>\n",
       "</g>\n",
       "<!-- 2067066208224 -->\n",
       "<g id=\"node10\" class=\"node\">\n",
       "<title>2067066208224</title>\n",
       "<polygon fill=\"none\" stroke=\"black\" points=\"634,-109.5 634,-145.5 822,-145.5 822,-109.5 634,-109.5\"/>\n",
       "<text text-anchor=\"middle\" x=\"644.5\" y=\"-123.8\" font-family=\"Times New Roman,serif\" font-size=\"14.00\">f</text>\n",
       "<polyline fill=\"none\" stroke=\"black\" points=\"655,-109.5 655,-145.5 \"/>\n",
       "<text text-anchor=\"middle\" x=\"697.5\" y=\"-123.8\" font-family=\"Times New Roman,serif\" font-size=\"14.00\">data &#45;2.0000</text>\n",
       "<polyline fill=\"none\" stroke=\"black\" points=\"740,-109.5 740,-145.5 \"/>\n",
       "<text text-anchor=\"middle\" x=\"781\" y=\"-123.8\" font-family=\"Times New Roman,serif\" font-size=\"14.00\">grad 0.0000</text>\n",
       "</g>\n",
       "<!-- 2067066208224&#45;&gt;2067066204720* -->\n",
       "<g id=\"edge4\" class=\"edge\">\n",
       "<title>2067066208224&#45;&gt;2067066204720*</title>\n",
       "<path fill=\"none\" stroke=\"black\" d=\"M822.29,-110.65C831.57,-108.97 840.52,-107.35 848.61,-105.89\"/>\n",
       "<polygon fill=\"black\" stroke=\"black\" points=\"849.46,-109.3 858.68,-104.07 848.21,-102.41 849.46,-109.3\"/>\n",
       "</g>\n",
       "</g>\n",
       "</svg>\n"
      ],
      "text/plain": [
       "<graphviz.graphs.Digraph at 0x1e14582ce30>"
      ]
     },
     "execution_count": 77,
     "metadata": {},
     "output_type": "execute_result"
    }
   ],
   "source": [
    "draw_dot(L)"
   ]
  },
  {
   "cell_type": "code",
   "execution_count": 78,
   "metadata": {},
   "outputs": [
    {
     "name": "stdout",
     "output_type": "stream",
     "text": [
      "-8.0\n"
     ]
    }
   ],
   "source": [
    "a.data += 0.01 * a.grad\n",
    "b.data += 0.01 * b.grad\n",
    "c.data += 0.01 * c.grad\n",
    "f.data += 0.01 * f.grad\n",
    "\n",
    "e = a * b\n",
    "d = e + c\n",
    "L = d * f\n",
    "\n",
    "print(L.data)\n"
   ]
  },
  {
   "cell_type": "code",
   "execution_count": 79,
   "metadata": {},
   "outputs": [
    {
     "name": "stdout",
     "output_type": "stream",
     "text": [
      "-3.9999999999995595\n"
     ]
    }
   ],
   "source": [
    "def lol():\n",
    "  \n",
    "  h = 0.001\n",
    "  \n",
    "  a = Value(2.0, label='a')\n",
    "  b = Value(-3.0, label='b')\n",
    "  c = Value(10.0, label='c')\n",
    "  e = a*b; e.label = 'e'\n",
    "  d = e + c; d.label = 'd'\n",
    "  f = Value(-2.0, label='f')\n",
    "  L = d * f; L.label = 'L'\n",
    "  L1 = L.data\n",
    "  \n",
    "  a = Value(2.0, label='a')\n",
    "  b = Value(-3.0, label='b')\n",
    "  b.data += h\n",
    "  c = Value(10.0, label='c')\n",
    "  e = a*b; e.label = 'e'\n",
    "  d = e + c; d.label = 'd'\n",
    "  f = Value(-2.0, label='f')\n",
    "  L = d * f; L.label = 'L'\n",
    "  L2 = L.data\n",
    "  \n",
    "  print((L2 - L1)/h)\n",
    "  \n",
    "lol()"
   ]
  },
  {
   "cell_type": "code",
   "execution_count": 96,
   "metadata": {},
   "outputs": [
    {
     "data": {
      "image/png": "[encoded data removed]",
      "text/plain": [
       "<Figure size 640x480 with 1 Axes>"
      ]
     },
     "metadata": {},
     "output_type": "display_data"
    }
   ],
   "source": [
    "plt.plot(np.arange(-5,5,0.2), np.tanh(np.arange(-5,5,0.2)));plt.grid();plt.show();"
   ]
  },
  {
   "cell_type": "code",
   "execution_count": 102,
   "metadata": {},
   "outputs": [
    {
     "data": {
      "image/png": "[encoded data removed]",
      "text/plain": [
       "<PIL.PngImagePlugin.PngImageFile image mode=RGBA size=286x161>"
      ]
     },
     "metadata": {},
     "output_type": "display_data"
    }
   ],
   "source": [
    "from PIL import Image\n",
    "from IPython.display import display\n",
    "img = Image.open('chrome_s8Q0gddt2q.png')\n",
    "display(img)"
   ]
  },
  {
   "cell_type": "code",
   "execution_count": 186,
   "metadata": {},
   "outputs": [],
   "source": [
    "# inputs x1,x2\n",
    "x1 = Value(2.0, label='x1')\n",
    "x2 = Value(0.0, label='x2')\n",
    "# weights w1,w2\n",
    "w1 = Value(-3.0, label='w1')\n",
    "w2 = Value(1.0, label='w2')\n",
    "# bias of the neuron\n",
    "b = Value(6.8813735870195432, label='b')\n",
    "# x1*w1 + x2*w2 + b\n",
    "x1w1 = x1*w1; x1w1.label = 'x1*w1'\n",
    "x2w2 = x2*w2; x2w2.label = 'x2*w2'\n",
    "x1w1x2w2 = x1w1 + x2w2; x1w1x2w2.label = 'x1*w1 + x2*w2'\n",
    "n = x1w1x2w2 + b; n.label = 'n'\n",
    "# activation function - exponentiation\n",
    "o = n.tanh(); o.label = 'o'\n"
   ]
  },
  {
   "cell_type": "code",
   "execution_count": 226,
   "metadata": {},
   "outputs": [
    {
     "data": {
      "image/svg+xml": [
       "<?xml version=\"1.0\" encoding=\"UTF-8\" standalone=\"no\"?>\n",
       "<!DOCTYPE svg PUBLIC \"-//W3C//DTD SVG 1.1//EN\"\n",
       " \"http://www.w3.org/Graphics/SVG/1.1/DTD/svg11.dtd\">\n",
       "<!-- Generated by graphviz version 2.50.0 (0)\n",
       " -->\n",
       "<!-- Pages: 1 -->\n",
       "<svg width=\"1582pt\" height=\"210pt\"\n",
       " viewBox=\"0.00 0.00 1582.00 210.00\" xmlns=\"http://www.w3.org/2000/svg\" xmlns:xlink=\"http://www.w3.org/1999/xlink\">\n",
       "<g id=\"graph0\" class=\"graph\" transform=\"scale(1 1) rotate(0) translate(4 206)\">\n",
       "<polygon fill=\"white\" stroke=\"transparent\" points=\"-4,4 -4,-206 1578,-206 1578,4 -4,4\"/>\n",
       "<!-- 2067198034480 -->\n",
       "<g id=\"node1\" class=\"node\">\n",
       "<title>2067198034480</title>\n",
       "<polygon fill=\"none\" stroke=\"black\" points=\"0,-165.5 0,-201.5 207,-201.5 207,-165.5 0,-165.5\"/>\n",
       "<text text-anchor=\"middle\" x=\"16.5\" y=\"-179.8\" font-family=\"Times New Roman,serif\" font-size=\"14.00\">w1</text>\n",
       "<polyline fill=\"none\" stroke=\"black\" points=\"33,-165.5 33,-201.5 \"/>\n",
       "<text text-anchor=\"middle\" x=\"75.5\" y=\"-179.8\" font-family=\"Times New Roman,serif\" font-size=\"14.00\">data &#45;3.0000</text>\n",
       "<polyline fill=\"none\" stroke=\"black\" points=\"118,-165.5 118,-201.5 \"/>\n",
       "<text text-anchor=\"middle\" x=\"162.5\" y=\"-179.8\" font-family=\"Times New Roman,serif\" font-size=\"14.00\">grad 13.0000</text>\n",
       "</g>\n",
       "<!-- 2067198096352* -->\n",
       "<g id=\"node14\" class=\"node\">\n",
       "<title>2067198096352*</title>\n",
       "<ellipse fill=\"none\" stroke=\"black\" cx=\"270\" cy=\"-128.5\" rx=\"27\" ry=\"18\"/>\n",
       "<text text-anchor=\"middle\" x=\"270\" y=\"-124.8\" font-family=\"Times New Roman,serif\" font-size=\"14.00\">*</text>\n",
       "</g>\n",
       "<!-- 2067198034480&#45;&gt;2067198096352* -->\n",
       "<g id=\"edge6\" class=\"edge\">\n",
       "<title>2067198034480&#45;&gt;2067198096352*</title>\n",
       "<path fill=\"none\" stroke=\"black\" d=\"M178.85,-165.48C188.4,-162.71 197.98,-159.7 207,-156.5 217.54,-152.76 228.77,-147.95 238.74,-143.38\"/>\n",
       "<polygon fill=\"black\" stroke=\"black\" points=\"240.27,-146.53 247.84,-139.11 237.3,-140.19 240.27,-146.53\"/>\n",
       "</g>\n",
       "<!-- 2067198451808 -->\n",
       "<g id=\"node2\" class=\"node\">\n",
       "<title>2067198451808</title>\n",
       "<polygon fill=\"none\" stroke=\"black\" points=\"335.5,-55.5 335.5,-91.5 550.5,-91.5 550.5,-55.5 335.5,-55.5\"/>\n",
       "<text text-anchor=\"middle\" x=\"362\" y=\"-69.8\" font-family=\"Times New Roman,serif\" font-size=\"14.00\">x2*w2</text>\n",
       "<polyline fill=\"none\" stroke=\"black\" points=\"388.5,-55.5 388.5,-91.5 \"/>\n",
       "<text text-anchor=\"middle\" x=\"428.5\" y=\"-69.8\" font-family=\"Times New Roman,serif\" font-size=\"14.00\">data 0.0000</text>\n",
       "<polyline fill=\"none\" stroke=\"black\" points=\"468.5,-55.5 468.5,-91.5 \"/>\n",
       "<text text-anchor=\"middle\" x=\"509.5\" y=\"-69.8\" font-family=\"Times New Roman,serif\" font-size=\"14.00\">grad 6.5000</text>\n",
       "</g>\n",
       "<!-- 2067198450320+ -->\n",
       "<g id=\"node10\" class=\"node\">\n",
       "<title>2067198450320+</title>\n",
       "<ellipse fill=\"none\" stroke=\"black\" cx=\"616\" cy=\"-100.5\" rx=\"27\" ry=\"18\"/>\n",
       "<text text-anchor=\"middle\" x=\"616\" y=\"-96.8\" font-family=\"Times New Roman,serif\" font-size=\"14.00\">+</text>\n",
       "</g>\n",
       "<!-- 2067198451808&#45;&gt;2067198450320+ -->\n",
       "<g id=\"edge10\" class=\"edge\">\n",
       "<title>2067198451808&#45;&gt;2067198450320+</title>\n",
       "<path fill=\"none\" stroke=\"black\" d=\"M550.84,-90.37C561.01,-91.98 570.76,-93.51 579.44,-94.89\"/>\n",
       "<polygon fill=\"black\" stroke=\"black\" points=\"579.05,-98.37 589.47,-96.47 580.14,-91.45 579.05,-98.37\"/>\n",
       "</g>\n",
       "<!-- 2067198451808* -->\n",
       "<g id=\"node3\" class=\"node\">\n",
       "<title>2067198451808*</title>\n",
       "<ellipse fill=\"none\" stroke=\"black\" cx=\"270\" cy=\"-73.5\" rx=\"27\" ry=\"18\"/>\n",
       "<text text-anchor=\"middle\" x=\"270\" y=\"-69.8\" font-family=\"Times New Roman,serif\" font-size=\"14.00\">*</text>\n",
       "</g>\n",
       "<!-- 2067198451808*&#45;&gt;2067198451808 -->\n",
       "<g id=\"edge1\" class=\"edge\">\n",
       "<title>2067198451808*&#45;&gt;2067198451808</title>\n",
       "<path fill=\"none\" stroke=\"black\" d=\"M297.34,-73.5C305.51,-73.5 315.08,-73.5 325.36,-73.5\"/>\n",
       "<polygon fill=\"black\" stroke=\"black\" points=\"325.39,-77 335.39,-73.5 325.39,-70 325.39,-77\"/>\n",
       "</g>\n",
       "<!-- 2067198006896 -->\n",
       "<g id=\"node4\" class=\"node\">\n",
       "<title>2067198006896</title>\n",
       "<polygon fill=\"none\" stroke=\"black\" points=\"723,-27.5 723,-63.5 908,-63.5 908,-27.5 723,-27.5\"/>\n",
       "<text text-anchor=\"middle\" x=\"734.5\" y=\"-41.8\" font-family=\"Times New Roman,serif\" font-size=\"14.00\">b</text>\n",
       "<polyline fill=\"none\" stroke=\"black\" points=\"746,-27.5 746,-63.5 \"/>\n",
       "<text text-anchor=\"middle\" x=\"786\" y=\"-41.8\" font-family=\"Times New Roman,serif\" font-size=\"14.00\">data 6.8814</text>\n",
       "<polyline fill=\"none\" stroke=\"black\" points=\"826,-27.5 826,-63.5 \"/>\n",
       "<text text-anchor=\"middle\" x=\"867\" y=\"-41.8\" font-family=\"Times New Roman,serif\" font-size=\"14.00\">grad 1.0000</text>\n",
       "</g>\n",
       "<!-- 2067198451328+ -->\n",
       "<g id=\"node6\" class=\"node\">\n",
       "<title>2067198451328+</title>\n",
       "<ellipse fill=\"none\" stroke=\"black\" cx=\"1015\" cy=\"-72.5\" rx=\"27\" ry=\"18\"/>\n",
       "<text text-anchor=\"middle\" x=\"1015\" y=\"-68.8\" font-family=\"Times New Roman,serif\" font-size=\"14.00\">+</text>\n",
       "</g>\n",
       "<!-- 2067198006896&#45;&gt;2067198451328+ -->\n",
       "<g id=\"edge9\" class=\"edge\">\n",
       "<title>2067198006896&#45;&gt;2067198451328+</title>\n",
       "<path fill=\"none\" stroke=\"black\" d=\"M908.02,-58.01C933,-61.43 958.59,-64.93 978.37,-67.63\"/>\n",
       "<polygon fill=\"black\" stroke=\"black\" points=\"978.05,-71.12 988.43,-69.01 979,-64.18 978.05,-71.12\"/>\n",
       "</g>\n",
       "<!-- 2067198451328 -->\n",
       "<g id=\"node5\" class=\"node\">\n",
       "<title>2067198451328</title>\n",
       "<polygon fill=\"none\" stroke=\"black\" points=\"1078,-54.5 1078,-90.5 1263,-90.5 1263,-54.5 1078,-54.5\"/>\n",
       "<text text-anchor=\"middle\" x=\"1089.5\" y=\"-68.8\" font-family=\"Times New Roman,serif\" font-size=\"14.00\">n</text>\n",
       "<polyline fill=\"none\" stroke=\"black\" points=\"1101,-54.5 1101,-90.5 \"/>\n",
       "<text text-anchor=\"middle\" x=\"1141\" y=\"-68.8\" font-family=\"Times New Roman,serif\" font-size=\"14.00\">data 0.8814</text>\n",
       "<polyline fill=\"none\" stroke=\"black\" points=\"1181,-54.5 1181,-90.5 \"/>\n",
       "<text text-anchor=\"middle\" x=\"1222\" y=\"-68.8\" font-family=\"Times New Roman,serif\" font-size=\"14.00\">grad 2.5000</text>\n",
       "</g>\n",
       "<!-- 2067198447248tanh -->\n",
       "<g id=\"node8\" class=\"node\">\n",
       "<title>2067198447248tanh</title>\n",
       "<ellipse fill=\"none\" stroke=\"black\" cx=\"1326\" cy=\"-72.5\" rx=\"27\" ry=\"18\"/>\n",
       "<text text-anchor=\"middle\" x=\"1326\" y=\"-68.8\" font-family=\"Times New Roman,serif\" font-size=\"14.00\">tanh</text>\n",
       "</g>\n",
       "<!-- 2067198451328&#45;&gt;2067198447248tanh -->\n",
       "<g id=\"edge13\" class=\"edge\">\n",
       "<title>2067198451328&#45;&gt;2067198447248tanh</title>\n",
       "<path fill=\"none\" stroke=\"black\" d=\"M1263.01,-72.5C1272.01,-72.5 1280.74,-72.5 1288.66,-72.5\"/>\n",
       "<polygon fill=\"black\" stroke=\"black\" points=\"1288.91,-76 1298.91,-72.5 1288.91,-69 1288.91,-76\"/>\n",
       "</g>\n",
       "<!-- 2067198451328+&#45;&gt;2067198451328 -->\n",
       "<g id=\"edge2\" class=\"edge\">\n",
       "<title>2067198451328+&#45;&gt;2067198451328</title>\n",
       "<path fill=\"none\" stroke=\"black\" d=\"M1042.04,-72.5C1049.58,-72.5 1058.3,-72.5 1067.57,-72.5\"/>\n",
       "<polygon fill=\"black\" stroke=\"black\" points=\"1067.81,-76 1077.81,-72.5 1067.81,-69 1067.81,-76\"/>\n",
       "</g>\n",
       "<!-- 2067198447248 -->\n",
       "<g id=\"node7\" class=\"node\">\n",
       "<title>2067198447248</title>\n",
       "<polygon fill=\"none\" stroke=\"black\" points=\"1389,-54.5 1389,-90.5 1574,-90.5 1574,-54.5 1389,-54.5\"/>\n",
       "<text text-anchor=\"middle\" x=\"1400.5\" y=\"-68.8\" font-family=\"Times New Roman,serif\" font-size=\"14.00\">o</text>\n",
       "<polyline fill=\"none\" stroke=\"black\" points=\"1412,-54.5 1412,-90.5 \"/>\n",
       "<text text-anchor=\"middle\" x=\"1452\" y=\"-68.8\" font-family=\"Times New Roman,serif\" font-size=\"14.00\">data 0.7071</text>\n",
       "<polyline fill=\"none\" stroke=\"black\" points=\"1492,-54.5 1492,-90.5 \"/>\n",
       "<text text-anchor=\"middle\" x=\"1533\" y=\"-68.8\" font-family=\"Times New Roman,serif\" font-size=\"14.00\">grad 1.0000</text>\n",
       "</g>\n",
       "<!-- 2067198447248tanh&#45;&gt;2067198447248 -->\n",
       "<g id=\"edge3\" class=\"edge\">\n",
       "<title>2067198447248tanh&#45;&gt;2067198447248</title>\n",
       "<path fill=\"none\" stroke=\"black\" d=\"M1353.04,-72.5C1360.58,-72.5 1369.3,-72.5 1378.57,-72.5\"/>\n",
       "<polygon fill=\"black\" stroke=\"black\" points=\"1378.81,-76 1388.81,-72.5 1378.81,-69 1378.81,-76\"/>\n",
       "</g>\n",
       "<!-- 2067198450320 -->\n",
       "<g id=\"node9\" class=\"node\">\n",
       "<title>2067198450320</title>\n",
       "<polygon fill=\"none\" stroke=\"black\" points=\"679,-82.5 679,-118.5 952,-118.5 952,-82.5 679,-82.5\"/>\n",
       "<text text-anchor=\"middle\" x=\"732\" y=\"-96.8\" font-family=\"Times New Roman,serif\" font-size=\"14.00\">x1*w1 + x2*w2</text>\n",
       "<polyline fill=\"none\" stroke=\"black\" points=\"785,-82.5 785,-118.5 \"/>\n",
       "<text text-anchor=\"middle\" x=\"827.5\" y=\"-96.8\" font-family=\"Times New Roman,serif\" font-size=\"14.00\">data &#45;6.0000</text>\n",
       "<polyline fill=\"none\" stroke=\"black\" points=\"870,-82.5 870,-118.5 \"/>\n",
       "<text text-anchor=\"middle\" x=\"911\" y=\"-96.8\" font-family=\"Times New Roman,serif\" font-size=\"14.00\">grad 4.5000</text>\n",
       "</g>\n",
       "<!-- 2067198450320&#45;&gt;2067198451328+ -->\n",
       "<g id=\"edge11\" class=\"edge\">\n",
       "<title>2067198450320&#45;&gt;2067198451328+</title>\n",
       "<path fill=\"none\" stroke=\"black\" d=\"M943.53,-82.49C956.09,-80.71 967.99,-79.02 978.3,-77.56\"/>\n",
       "<polygon fill=\"black\" stroke=\"black\" points=\"979.03,-80.99 988.44,-76.12 978.05,-74.06 979.03,-80.99\"/>\n",
       "</g>\n",
       "<!-- 2067198450320+&#45;&gt;2067198450320 -->\n",
       "<g id=\"edge4\" class=\"edge\">\n",
       "<title>2067198450320+&#45;&gt;2067198450320</title>\n",
       "<path fill=\"none\" stroke=\"black\" d=\"M643.23,-100.5C650.7,-100.5 659.41,-100.5 668.87,-100.5\"/>\n",
       "<polygon fill=\"black\" stroke=\"black\" points=\"668.98,-104 678.98,-100.5 668.98,-97 668.98,-104\"/>\n",
       "</g>\n",
       "<!-- 2067198138256 -->\n",
       "<g id=\"node11\" class=\"node\">\n",
       "<title>2067198138256</title>\n",
       "<polygon fill=\"none\" stroke=\"black\" points=\"2,-110.5 2,-146.5 205,-146.5 205,-110.5 2,-110.5\"/>\n",
       "<text text-anchor=\"middle\" x=\"17\" y=\"-124.8\" font-family=\"Times New Roman,serif\" font-size=\"14.00\">x1</text>\n",
       "<polyline fill=\"none\" stroke=\"black\" points=\"32,-110.5 32,-146.5 \"/>\n",
       "<text text-anchor=\"middle\" x=\"72\" y=\"-124.8\" font-family=\"Times New Roman,serif\" font-size=\"14.00\">data 2.0000</text>\n",
       "<polyline fill=\"none\" stroke=\"black\" points=\"112,-110.5 112,-146.5 \"/>\n",
       "<text text-anchor=\"middle\" x=\"158.5\" y=\"-124.8\" font-family=\"Times New Roman,serif\" font-size=\"14.00\">grad &#45;19.5000</text>\n",
       "</g>\n",
       "<!-- 2067198138256&#45;&gt;2067198096352* -->\n",
       "<g id=\"edge7\" class=\"edge\">\n",
       "<title>2067198138256&#45;&gt;2067198096352*</title>\n",
       "<path fill=\"none\" stroke=\"black\" d=\"M205.4,-128.5C215.13,-128.5 224.49,-128.5 232.89,-128.5\"/>\n",
       "<polygon fill=\"black\" stroke=\"black\" points=\"232.99,-132 242.99,-128.5 232.99,-125 232.99,-132\"/>\n",
       "</g>\n",
       "<!-- 2067198045616 -->\n",
       "<g id=\"node12\" class=\"node\">\n",
       "<title>2067198045616</title>\n",
       "<polygon fill=\"none\" stroke=\"black\" points=\"7.5,-55.5 7.5,-91.5 199.5,-91.5 199.5,-55.5 7.5,-55.5\"/>\n",
       "<text text-anchor=\"middle\" x=\"22.5\" y=\"-69.8\" font-family=\"Times New Roman,serif\" font-size=\"14.00\">x2</text>\n",
       "<polyline fill=\"none\" stroke=\"black\" points=\"37.5,-55.5 37.5,-91.5 \"/>\n",
       "<text text-anchor=\"middle\" x=\"77.5\" y=\"-69.8\" font-family=\"Times New Roman,serif\" font-size=\"14.00\">data 0.0000</text>\n",
       "<polyline fill=\"none\" stroke=\"black\" points=\"117.5,-55.5 117.5,-91.5 \"/>\n",
       "<text text-anchor=\"middle\" x=\"158.5\" y=\"-69.8\" font-family=\"Times New Roman,serif\" font-size=\"14.00\">grad 6.5000</text>\n",
       "</g>\n",
       "<!-- 2067198045616&#45;&gt;2067198451808* -->\n",
       "<g id=\"edge8\" class=\"edge\">\n",
       "<title>2067198045616&#45;&gt;2067198451808*</title>\n",
       "<path fill=\"none\" stroke=\"black\" d=\"M199.71,-73.5C211.3,-73.5 222.53,-73.5 232.46,-73.5\"/>\n",
       "<polygon fill=\"black\" stroke=\"black\" points=\"232.68,-77 242.68,-73.5 232.68,-70 232.68,-77\"/>\n",
       "</g>\n",
       "<!-- 2067198096352 -->\n",
       "<g id=\"node13\" class=\"node\">\n",
       "<title>2067198096352</title>\n",
       "<polygon fill=\"none\" stroke=\"black\" points=\"333,-110.5 333,-146.5 553,-146.5 553,-110.5 333,-110.5\"/>\n",
       "<text text-anchor=\"middle\" x=\"359.5\" y=\"-124.8\" font-family=\"Times New Roman,serif\" font-size=\"14.00\">x1*w1</text>\n",
       "<polyline fill=\"none\" stroke=\"black\" points=\"386,-110.5 386,-146.5 \"/>\n",
       "<text text-anchor=\"middle\" x=\"428.5\" y=\"-124.8\" font-family=\"Times New Roman,serif\" font-size=\"14.00\">data &#45;6.0000</text>\n",
       "<polyline fill=\"none\" stroke=\"black\" points=\"471,-110.5 471,-146.5 \"/>\n",
       "<text text-anchor=\"middle\" x=\"512\" y=\"-124.8\" font-family=\"Times New Roman,serif\" font-size=\"14.00\">grad 6.5000</text>\n",
       "</g>\n",
       "<!-- 2067198096352&#45;&gt;2067198450320+ -->\n",
       "<g id=\"edge12\" class=\"edge\">\n",
       "<title>2067198096352&#45;&gt;2067198450320+</title>\n",
       "<path fill=\"none\" stroke=\"black\" d=\"M553.27,-110.61C562.64,-109.07 571.6,-107.61 579.65,-106.29\"/>\n",
       "<polygon fill=\"black\" stroke=\"black\" points=\"580.35,-109.72 589.65,-104.65 579.22,-102.81 580.35,-109.72\"/>\n",
       "</g>\n",
       "<!-- 2067198096352*&#45;&gt;2067198096352 -->\n",
       "<g id=\"edge5\" class=\"edge\">\n",
       "<title>2067198096352*&#45;&gt;2067198096352</title>\n",
       "<path fill=\"none\" stroke=\"black\" d=\"M297.34,-128.5C304.77,-128.5 313.37,-128.5 322.6,-128.5\"/>\n",
       "<polygon fill=\"black\" stroke=\"black\" points=\"322.84,-132 332.84,-128.5 322.84,-125 322.84,-132\"/>\n",
       "</g>\n",
       "<!-- 2067198005744 -->\n",
       "<g id=\"node15\" class=\"node\">\n",
       "<title>2067198005744</title>\n",
       "<polygon fill=\"none\" stroke=\"black\" points=\"6,-0.5 6,-36.5 201,-36.5 201,-0.5 6,-0.5\"/>\n",
       "<text text-anchor=\"middle\" x=\"22.5\" y=\"-14.8\" font-family=\"Times New Roman,serif\" font-size=\"14.00\">w2</text>\n",
       "<polyline fill=\"none\" stroke=\"black\" points=\"39,-0.5 39,-36.5 \"/>\n",
       "<text text-anchor=\"middle\" x=\"79\" y=\"-14.8\" font-family=\"Times New Roman,serif\" font-size=\"14.00\">data 1.0000</text>\n",
       "<polyline fill=\"none\" stroke=\"black\" points=\"119,-0.5 119,-36.5 \"/>\n",
       "<text text-anchor=\"middle\" x=\"160\" y=\"-14.8\" font-family=\"Times New Roman,serif\" font-size=\"14.00\">grad 0.0000</text>\n",
       "</g>\n",
       "<!-- 2067198005744&#45;&gt;2067198451808* -->\n",
       "<g id=\"edge14\" class=\"edge\">\n",
       "<title>2067198005744&#45;&gt;2067198451808*</title>\n",
       "<path fill=\"none\" stroke=\"black\" d=\"M175.76,-36.54C186.31,-39.62 197,-42.98 207,-46.5 217.3,-50.13 228.3,-54.68 238.13,-59.01\"/>\n",
       "<polygon fill=\"black\" stroke=\"black\" points=\"236.94,-62.32 247.5,-63.23 239.81,-55.93 236.94,-62.32\"/>\n",
       "</g>\n",
       "</g>\n",
       "</svg>\n"
      ],
      "text/plain": [
       "<graphviz.graphs.Digraph at 0x1e14e9a39b0>"
      ]
     },
     "execution_count": 226,
     "metadata": {},
     "output_type": "execute_result"
    }
   ],
   "source": [
    "draw_dot(o)"
   ]
  },
  {
   "cell_type": "code",
   "execution_count": 232,
   "metadata": {},
   "outputs": [],
   "source": [
    "# Set artifically for start point\n",
    "o.grad = 1.0\n"
   ]
  },
  {
   "cell_type": "code",
   "execution_count": 234,
   "metadata": {},
   "outputs": [],
   "source": [
    "o._backward()"
   ]
  },
  {
   "cell_type": "code",
   "execution_count": 236,
   "metadata": {},
   "outputs": [],
   "source": [
    "n._backward()"
   ]
  },
  {
   "cell_type": "code",
   "execution_count": 238,
   "metadata": {},
   "outputs": [
    {
     "ename": "AttributeError",
     "evalue": "'Value' object has no attribute 'backward'",
     "output_type": "error",
     "traceback": [
      "\u001b[1;31m---------------------------------------------------------------------------\u001b[0m",
      "\u001b[1;31mAttributeError\u001b[0m                            Traceback (most recent call last)",
      "Cell \u001b[1;32mIn[238], line 1\u001b[0m\n\u001b[1;32m----> 1\u001b[0m b\u001b[38;5;241m.\u001b[39mbackward()\n",
      "\u001b[1;31mAttributeError\u001b[0m: 'Value' object has no attribute 'backward'"
     ]
    }
   ],
   "source": [
    "b._backward()"
   ]
  },
  {
   "cell_type": "code",
   "execution_count": 240,
   "metadata": {},
   "outputs": [],
   "source": [
    "x1w1x2w2._backward()"
   ]
  },
  {
   "cell_type": "code",
   "execution_count": 224,
   "metadata": {},
   "outputs": [],
   "source": [
    "x2w2._backward()\n",
    "x1w1._backward()"
   ]
  },
  {
   "cell_type": "code",
   "execution_count": 173,
   "metadata": {},
   "outputs": [],
   "source": [
    "# local derivative of sum with respect to x1 (calculating grad for x1)\n",
    "\n",
    "x1.grad = w1.data * x1w1.grad\n",
    "w1.grad = x1.data * x1w1.grad"
   ]
  },
  {
   "cell_type": "code",
   "execution_count": 169,
   "metadata": {},
   "outputs": [],
   "source": [
    "# Product rule in calculus -\n",
    "# dx2w2/dx2 = dx2w2/dw2 * dw2/dx2\n",
    "# dx2/x2 = d(x2*w2)/dx2 * d(x2w2.data)/dx2\n",
    "\n",
    "x2.grad = w2.data * x2w2.grad \n",
    "w2.grad = x2.data * x2w2.grad "
   ]
  },
  {
   "cell_type": "code",
   "execution_count": 142,
   "metadata": {},
   "outputs": [],
   "source": [
    "# 3. Add node is a distributor \n",
    "x1w1.grad = 0.5\n",
    "x2w2.grad = 0.5"
   ]
  },
  {
   "cell_type": "code",
   "execution_count": 136,
   "metadata": {},
   "outputs": [],
   "source": [
    "x1w1x2w2.grad = 0.5\n",
    "n.grad = 0.5"
   ]
  },
  {
   "cell_type": "code",
   "execution_count": 130,
   "metadata": {},
   "outputs": [
    {
     "data": {
      "text/plain": [
       "0.4999999999999999"
      ]
     },
     "execution_count": 130,
     "metadata": {},
     "output_type": "execute_result"
    }
   ],
   "source": [
    "# 1. Gradient of final output with respect to itself is 1. (chain rule - calculus)\n",
    "o.grad = 1.0\n",
    "# 2. Calculate derivative of the activation layer (tanh)\n",
    "# o = tanh(n)\n",
    "# do/dn = 1 - o**2\n",
    "1 - o.data**2\n",
    "\n"
   ]
  },
  {
   "cell_type": "code",
   "execution_count": null,
   "metadata": {},
   "outputs": [],
   "source": []
  }
 ],
 "metadata": {
  "kernelspec": {
   "display_name": "Python 3 (ipykernel)",
   "language": "python",
   "name": "python3"
  },
  "language_info": {
   "codemirror_mode": {
    "name": "ipython",
    "version": 3
   },
   "file_extension": ".py",
   "mimetype": "text/x-python",
   "name": "python",
   "nbconvert_exporter": "python",
   "pygments_lexer": "ipython3",
   "version": "3.12.7"
  }
 },
 "nbformat": 4,
 "nbformat_minor": 4
}
